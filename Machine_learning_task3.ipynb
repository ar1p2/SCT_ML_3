{
  "nbformat": 4,
  "nbformat_minor": 0,
  "metadata": {
    "colab": {
      "provenance": []
    },
    "kernelspec": {
      "name": "python3",
      "display_name": "Python 3"
    },
    "language_info": {
      "name": "python"
    }
  },
  "cells": [
    {
      "cell_type": "code",
      "execution_count": 1,
      "metadata": {
        "colab": {
          "base_uri": "https://localhost:8080/"
        },
        "id": "KEdU4tU9t0iA",
        "outputId": "4fee44ce-af36-424a-8b3e-fefb4ee9b1e5"
      },
      "outputs": [
        {
          "output_type": "stream",
          "name": "stdout",
          "text": [
            "Images downloaded and saved successfully.\n"
          ]
        }
      ],
      "source": [
        "import os\n",
        "import urllib.request\n",
        "import tarfile\n",
        "import pickle\n",
        "import cv2\n",
        "\n",
        "# URL of CIFAR-10 dataset\n",
        "url = \"https://www.cs.toronto.edu/~kriz/cifar-10-python.tar.gz\"\n",
        "\n",
        "# Directory to save downloaded dataset\n",
        "save_directory = \"./cifar-10\"\n",
        "\n",
        "# Create directory if it doesn't exist\n",
        "if not os.path.exists(save_directory):\n",
        "    os.makedirs(save_directory)\n",
        "\n",
        "# Download and extract CIFAR-10 dataset\n",
        "filename = url.split(\"/\")[-1]\n",
        "urllib.request.urlretrieve(url, os.path.join(save_directory, filename))\n",
        "tar = tarfile.open(os.path.join(save_directory, filename), \"r:gz\")\n",
        "tar.extractall(save_directory)\n",
        "tar.close()\n",
        "\n",
        "# Define labels for cats and dogs\n",
        "cat_label = 3\n",
        "dog_label = 5\n",
        "\n",
        "# Directory to save cat and dog images\n",
        "cat_directory = os.path.join(save_directory, \"cats\")\n",
        "dog_directory = os.path.join(save_directory, \"dogs\")\n",
        "\n",
        "# Create directories if they don't exist\n",
        "for directory in [cat_directory, dog_directory]:\n",
        "    if not os.path.exists(directory):\n",
        "        os.makedirs(directory)\n",
        "\n",
        "# Extract and save cat and dog images\n",
        "for filename in os.listdir(os.path.join(save_directory, \"cifar-10-batches-py\")):\n",
        "    if \"data_batch\" in filename:\n",
        "        with open(os.path.join(save_directory, \"cifar-10-batches-py\", filename), 'rb') as file:\n",
        "            data_dict = pickle.load(file, encoding='bytes')\n",
        "            for i, label in enumerate(data_dict[b'labels']):\n",
        "                image = data_dict[b'data'][i]\n",
        "                image = image.reshape((3, 32, 32)).transpose(1, 2, 0)\n",
        "                if label == cat_label:\n",
        "                    cv2.imwrite(os.path.join(cat_directory, f\"cat_{i}.png\"), image)\n",
        "                elif label == dog_label:\n",
        "                    cv2.imwrite(os.path.join(dog_directory, f\"dog_{i}.png\"), image)\n",
        "\n",
        "print(\"Images downloaded and saved successfully.\")"
      ]
    }
  ]
}